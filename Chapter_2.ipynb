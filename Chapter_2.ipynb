{
 "cells": [
  {
   "cell_type": "markdown",
   "id": "9c3afb57",
   "metadata": {},
   "source": [
    "## BA1A\n",
    "### Implement MotifEnumeration"
   ]
  },
  {
   "cell_type": "markdown",
   "id": "d64d88b6",
   "metadata": {},
   "source": [
    " Algorithm: \n",
    " \n",
    " MotifEnumeration(Dna, k, d):\n",
    "     Patterns <-- Empty set()\n",
    "     for each k-mer Pattern in Dna: \n",
    "         for each k-mer Pattern difering from Dna with at most d mismatches\n",
    "             if Pattern appears in each string from Dna with at most d mismat\n",
    "                 add Pattern to patterns\n",
    "     remove duplicates from Patterns\n",
    "     return Patterns\n",
    "            "
   ]
  },
  {
   "cell_type": "code",
   "execution_count": 97,
   "id": "bfa3a1e0",
   "metadata": {},
   "outputs": [
    {
     "name": "stdout",
     "output_type": "stream",
     "text": [
      "345\n",
      "CGTTG ATCAG CCTGA AACAG GACAG AACGC ACGCT ACTGA ACGGT TACCA ATTGA TAGGA GTTGC GACCT CGAGA GATCT ACCGA TGGAA GAAGC TTTAG AAACG ACGTA CGAAT TCTGG GTACT ACGAT CTAAC CCAGA GAGTA ACGGA AAAGA GAAAG AGAGT TTTGA CCAGT ACTAG AGTCG AGCGA TCACG AAGAT CCTAG TACTA CGCAT CAGAC TCAGG AGTTT GGACC TGTTG TAGCA AACCT AAGTT GTAGG AAAGT TAGCC ATCCA TGACG GGTAG GGTGT CATGA TATCG GAAAT CAACG GACCA GCTGT TGATG AGCCC CAACT GGTAT GACCG TCAAA ATGGT TCGAT CAGAA GCCGT CGTTA AATAG AGGTA CGGAA TCTAG AGCAA GAATC ATCGC TAACG ATCGT CAGCA TTGAC GGACG CGTGA CTACG TAACA TGATA GAAGA GCAGA GTGGA GCAAG GAGAG TGAAC AAACT AGCGT AGGAC GACAT GAAGG CAAGT AGGAT GTAAA AGGCT TAGCG GTACG TGACA GTTGA ATGTA TATAG GACTA GGATA GTCCA TGTCA CAGAT CAAGG CAGAG ACAGT ACAGC AGATA AGTTC GATAC GAGCT TCCGA ACCAG GAACG CAAGC GCGAG TTCTA AGTTA AACCA ATCTG TTAGT TCAGT TTACA TAACT TCGAA TCCAG GGTGA ACGTT CGACC AGTGA AACGT TTGGA GTAGT TGAGA ACTTG CAAGA TGCGA TCTAC AAGCG GTAGC TGTAG AGTCC ACAAT CACGA GAAGT CAGGA GAATT CTAAA ATTAG ATAGA CTACA CTCGA GATGT ACATG CTTGA CGAAG AGACC ATAAA TAAGA CCGAG GAGTC TCAAG GCGGT ATCCG GAGTT TCGCG GACCC GTGAC GTCAG AACGG GTGTG TAGAC GATTG CAGTC TCGTG TGTAA TTGAT CGAGT GCTAA AGAAG GTTAC GCGTT GATAT GCCAG AGCTC AGCAT CTGAA CGATC CTGAG GAGGT TAGAT TGAGG AAGTG CGTAG AACTA AGTAC GCACG GACTG CATGG GCGAA TGAAT TCTAA CCGAA AGCAG ATGCG CGATG ACATC TTGAG ATGAG CAAAG ACGAC ATTCT ACAAG AGTGC CTAGT AGGTG TTACG ACGCA ATGGA TAGTG TCGAC TGAGC AGCTT AAATG TACGG CGTTC GCAAT GGAGC TCCAA CTTAG AGACG TACGA TGAAA CAGGT CATCG GATAG GCGTG GTGTC CGCTA AGTTG GATAA AGAGG TAGTA AACTT TATTA GTGGT GATCC TGGAC GGACT GATGA GAGAT TGCTA CGGTA GGAGT ATGAC ACAAC AAGAC AGATT AAGGT GTGCA GTCTA GTCGA CATTC TACAG AGATG GTACA GCTAG GACGA GTATC AGGCC ACGAA GTAGA ATGCA TTAGA TCGGG CGATA GGCTA CAATA ATTCG ATAGG AGTAG GCGAT AATTG GTGAA ACAGA TGAGT GAGAC TTGAA GCATT CTATA ATGTG TGCAA TCGAG GAGCC ATGGG CTGGA AGGTC ATAGC CCCAG GTGTT TGAAG ATATC TTAGC GAACT ACGAG GGAGA AGTGG GAGGA TTATA CGAAC CTAGA CGAGC AACAT AACGA GGTTA GGAAG GATGG TCAGA AGACA GCAGG CGAAA GACAA GGTCA TGACC TAGTT TGCAG AGAGA TACAA ATCGA CAATG AGACT\n"
     ]
    }
   ],
   "source": [
    "import itertools\n",
    "\n",
    "def All_combinations(k):\n",
    "    return [''.join(p) for p in itertools.product('ACGT', repeat=k)]\n",
    "\n",
    "def Hamming_Distance(s1,s2):\n",
    "    return sum(i!=j for i,j in zip(s1,s2))\n",
    "\n",
    "def kmer_exists_with_mismatch(pattern,dna,d):\n",
    "    return any(Hamming_Distance(pattern, dna[i: i+len(pattern)]) <= d for i in range(len(dna)-len(pattern)+1))\n",
    "\n",
    "# def kmer_exists_with_mismatch(kmer, dna,d):\n",
    "#       return any(hamming_dist(kmer, dna[i : i+len(kmer)])<=d for i in range(len(dna)-len(kmer)+1))\n",
    "def kmer_set_from_dna_list(dna_list, k):\n",
    "    \n",
    "#     kmer_set =  {dna_list[i][j: j+k] for i in range(len(dna_list)) for j in range(len(dna_list[i]) - k + 1)}\n",
    "    kmer_set = set()\n",
    "    for i in range(len(dna_list)):\n",
    "        for j in range(len(dna_list[i])- k + 1):\n",
    "            kmer_set.add(dna_list[i][j:j+k])    \n",
    "#     print(kmer_set)\n",
    "    return kmer_set\n",
    "\n",
    "def neighbourhood_kmer(all_combo,kmer,d):\n",
    "    for nkmer in all_combo:\n",
    "        if Hamming_Distance(nkmer, kmer) <= d:\n",
    "            yield nkmer\n",
    "\n",
    "\n",
    "# def motif_enumeration(dna_list, k, d):\n",
    "#     patterns = set()\n",
    "#     all_kmer_set = kmer_set_from_dna_list(dna_list, k)\n",
    "#     all_combo = all_combinations(k)\n",
    "    \n",
    "#     for kmer in all_kmer_set:\n",
    "#         nkmer_list = neighbourhood_kmer(all_combo, kmer, d)\n",
    "        \n",
    "#         for nkmer in nkmer_list:\n",
    "#             if all(kmer_exists_with_mismatch(nkmer, dna, d) for dna in dna_list):\n",
    "#                 patterns.add(nkmer)\n",
    "# #                 print('Alu')\n",
    "#     print(len(patterns))\n",
    "#     return ' '.join(patterns)\n",
    "#     print(patterns)\n",
    "\n",
    "def motif_enumeration(dna, k, d):\n",
    "  final_motif_set = set()\n",
    "  all_kmer_set = kmer_set_from_dna_list(dna_list, k)\n",
    "  all_combo = all_combinations(k)\n",
    "\n",
    "  for kmer in all_kmer_set:\n",
    "    neighbour_kmer_list = neighbourhood_kmer(all_combo, kmer,d)\n",
    "\n",
    "    for neighbour_kmer in neighbour_kmer_list:\n",
    "      if all(kmer_exists_with_mismatch(neighbour_kmer, dna, d) for dna in dna_list):\n",
    "        final_motif_set.add(neighbour_kmer)\n",
    "  print(len(final_motif_set))\n",
    "  return ' '.join(final_motif_set)\n",
    "\n",
    "with open(\"rosalind_ba2a.txt\", \"r\") as f:\n",
    "    k,d = map(int,f.readline().strip().split())\n",
    "    dna_list = [line.strip() for line in f]\n",
    "#     print(dna_list)\n",
    "#     print(k,d)\n",
    "    print(motif_enumeration(dna_list, k, d))\n",
    "    \n",
    "\n",
    "# def print_even():\n",
    "#     test_list = [1,4,5,6,7]\n",
    "#     for i in test_list:\n",
    "#         if i%2 == 0:\n",
    "#             yield i\n",
    "# for j in print_even():\n",
    "#     print(j, end = ' ')"
   ]
  },
  {
   "cell_type": "markdown",
   "id": "958cd2ff",
   "metadata": {},
   "source": [
    "## BA1B\n",
    "### Find a median string"
   ]
  },
  {
   "cell_type": "markdown",
   "id": "ff635d48",
   "metadata": {},
   "source": [
    "MedianString(Dna, k):\n",
    "  best-k-mer = AAA.....\n",
    "  for each k_mer from AAA... to TTTT...TT \n",
    "    if d(k-mer, Dna) < distance(best-k-mer, Dna)\n",
    "      best-k-mer = k-mer \n",
    "  return best-k-mer "
   ]
  },
  {
   "cell_type": "code",
   "execution_count": 153,
   "id": "027dcccf",
   "metadata": {},
   "outputs": [
    {
     "name": "stdout",
     "output_type": "stream",
     "text": [
      "GGATCG\n"
     ]
    }
   ],
   "source": [
    "#  Solved \n",
    "\n",
    "import itertools \n",
    "\n",
    "def hamming_distance(s1,s2):\n",
    "    return sum(i!=j for i,j in zip(s1,s2))\n",
    "\n",
    "def all_combinations(k):\n",
    "    return [''.join(p) for p in itertools.product('ATGC', repeat=k)]\n",
    "\n",
    "def kmer_set(dna, k):\n",
    "    return {dna[i:i+k] for i in range(len(dna)-k+1)}\n",
    "\n",
    "def min_score_from_single_dna(pattern, dna):\n",
    "    return min(hamming_distance(pattern, kmer) for kmer in kmer_set(dna, len(pattern)))\n",
    "\n",
    "def min_score_from_all_dna(pattern, dna_list):\n",
    "    return sum(min_score_from_single_dna(pattern, dna) for dna in dna_list)\n",
    "\n",
    "def find_median_string(k, dna_list):\n",
    "    min_dist = int(k*len(dna_list))\n",
    "#     print(min_dist, type(min_dist))\n",
    "    all_combo = all_combinations(int(k))\n",
    "#     print(all_combo)\n",
    "#     print(min_dist)\n",
    "    \n",
    "    for kmer in all_combo:\n",
    "        cur_dist = min_score_from_all_dna(kmer, dna_list)\n",
    "#         print(kmer)\n",
    "#         print(cur_dist)\n",
    "#         print(cur_dist, type(cur_dist))\n",
    "        if cur_dist <= min_dist:\n",
    "            min_dist = cur_dist\n",
    "            motif = kmer\n",
    "#             print(motif)\n",
    "    return motif\n",
    "\n",
    "with open('rosalind_ba2b.txt') as f:\n",
    "    k = f.readline().strip()\n",
    "#     print(k)\n",
    "    dna_list = [line.strip() for line in f]\n",
    "#     print(dna_list)\n",
    "    print(find_median_string(k,dna_list))\n",
    "\n",
    "\n",
    "# dna = 'ATTTTTCTCTGC'\n",
    "# k_mer_set(dna,2)\n",
    "# all_combinations(2)"
   ]
  },
  {
   "cell_type": "markdown",
   "id": "c0df6e89",
   "metadata": {},
   "source": [
    "## BA1C\n",
    "### Profile-most Probable k-mer problem "
   ]
  },
  {
   "cell_type": "code",
   "execution_count": 207,
   "id": "d415920d",
   "metadata": {},
   "outputs": [
    {
     "name": "stdout",
     "output_type": "stream",
     "text": [
      "AGATTTGC\n"
     ]
    }
   ],
   "source": [
    "# Solved \n",
    "\n",
    "def compute_probability(profile, kmer):\n",
    "    prob = 1\n",
    "    for i in range(len(kmer)):\n",
    "#         print(profile[0][i])\n",
    "        if kmer[i] == 'A':\n",
    "            prob *= profile[0][i]\n",
    "        elif kmer[i] == 'C':\n",
    "            prob *= profile[1][i]\n",
    "        if kmer[i] == 'G':\n",
    "            prob *= profile[2][i]\n",
    "        elif kmer[i] == 'T':\n",
    "            prob *= profile[3][i]\n",
    "#     print(prob)\n",
    "    return prob\n",
    "\n",
    "def profile_most_probable_kmer(dna,k,profile):\n",
    "    d = {-150.05: 'AAAAA'}\n",
    "    mx = -150.05\n",
    "    for i in range(len(dna)-k+1):\n",
    "        temp = compute_probability(profile,dna[i:i+k])\n",
    "        if(temp > mx):\n",
    "            mx = temp\n",
    "            d[temp] = dna[i:i+k]\n",
    "#             print(dna[i:i+k])\n",
    "#     print(mx,d[mx])\n",
    "    print(d[mx])\n",
    "    return d[mx]\n",
    "\n",
    "with open('rosalind_ba2c.txt') as f:\n",
    "    dna = f.readline().strip()\n",
    "    k = int(f.readline().strip())\n",
    "#     k = 5\n",
    "    profile = [[float(l) for l in line.strip().split()] for line in f]\n",
    "    profile_most_probable_kmer(dna,k,profile)\n",
    "\n",
    "#     input\n",
    "# problem link: https://rosalind.info/problems/ba2c/\n",
    "'''ACCTGTTTATTGCCTAAGTTCCGAACAAACCCAATATAGCCCGAGGGCCT\n",
    "5\n",
    "0.2 0.2 0.3 0.2 0.3\n",
    "0.4 0.3 0.1 0.5 0.1\n",
    "0.3 0.3 0.5 0.2 0.4\n",
    "0.1 0.2 0.1 0.1 0.2'''\n",
    "    #     print(profile)\n",
    "#     kmer = 'ACGTT'\n",
    "#     compute_probability(profile, kmer)\n",
    "    "
   ]
  },
  {
   "cell_type": "markdown",
   "id": "865457a3",
   "metadata": {},
   "source": [
    "## BA2F\n",
    "### Implement RandomizedMotifSearch"
   ]
  },
  {
   "cell_type": "code",
   "execution_count": 15,
   "id": "cd5b33dd",
   "metadata": {},
   "outputs": [
    {
     "name": "stdout",
     "output_type": "stream",
     "text": [
      "8 5\n",
      "['CGCCCCTCTCGGGGGTGTTCAGTAAACGGCCA', 'GGGCGAGGTATGTGTAAGTGCCAAGGTGCCAG', 'TAGTACCGAGACCGAAAGAAGTATACAGGCGT', 'TAGATCAAGTTTCAGGTGCACGTCGGTGAACC', 'AATCCACCAGCTCCACGTGCAATGTTGGCCTA']\n",
      "['CGCCCCTC', 'GCCCCTCT', 'CCCCTCTC', 'CCCTCTCG', 'CCTCTCGG', 'CTCTCGGG', 'TCTCGGGG', 'CTCGGGGG', 'TCGGGGGT', 'CGGGGGTG', 'GGGGGTGT', 'GGGGTGTT', 'GGGTGTTC', 'GGTGTTCA', 'GTGTTCAG', 'TGTTCAGT', 'GTTCAGTA', 'TTCAGTAA', 'TCAGTAAA', 'CAGTAAAC', 'AGTAAACG', 'GTAAACGG', 'TAAACGGC', 'AAACGGCC', 'AACGGCCA']\n"
     ]
    }
   ],
   "source": [
    "from collections import  defaultdict, Counter \n",
    "import numpy as np\n",
    "import random\n",
    "\n",
    "\n",
    "def selec_motif_random(dna_list, k):\n",
    "    ln = len(dna_list[0])\n",
    "    \n",
    "    return [ dna[random:random+k] for dna, random in zip(dna_list, [])]\n",
    "\n",
    "def kmer_list(dna, k):\n",
    "    return [dna[i:i+k] for i in range(len(dna)-k+1)]\n",
    "\n",
    "def calculate_probability(kmer, profile):\n",
    "    prob = 1\n",
    "    for i in range(len(kmer)):\n",
    "        if kmer[i] == 'A':\n",
    "            prob *= profile[0][i]\n",
    "        elif kmer[i] == 'C':\n",
    "            prob *= profile[1][i]\n",
    "        elif kmer[i] == 'G':\n",
    "            prob *= profile[2][i]\n",
    "        elif kmer[i] == 'T':\n",
    "            prob *= profile[3][i]\n",
    "    \n",
    "    return prob\n",
    "\n",
    "def profile_most_probable_kmer(text, k, profile_dict):\n",
    "    return max([(calculate_probability(kmer, profile_dict), kmer) for kmer in kmer_list(text, k)], key = lambda item: item[0][1])\n",
    "# def Randomized_motif_search(k,t,dna):\n",
    "    # Randomly select k-mer motifs \n",
    "    \n",
    "\n",
    "with open('rosalind_ba2f_.txt') as f:\n",
    "    k,t = f.readline().strip().split()\n",
    "    k,t = int(k), int(t)\n",
    "    print(k,t)\n",
    "    dna_list = [line.strip() for line in f]\n",
    "    print(dna_list)\n",
    "    print(kmer_list(dna_list[0],k))\n",
    "    "
   ]
  }
 ],
 "metadata": {
  "kernelspec": {
   "display_name": "Python 3 (ipykernel)",
   "language": "python",
   "name": "python3"
  },
  "language_info": {
   "codemirror_mode": {
    "name": "ipython",
    "version": 3
   },
   "file_extension": ".py",
   "mimetype": "text/x-python",
   "name": "python",
   "nbconvert_exporter": "python",
   "pygments_lexer": "ipython3",
   "version": "3.10.0"
  }
 },
 "nbformat": 4,
 "nbformat_minor": 5
}
