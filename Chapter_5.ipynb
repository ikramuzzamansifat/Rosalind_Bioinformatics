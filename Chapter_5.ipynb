{
 "cells": [
  {
   "cell_type": "markdown",
   "id": "042b6b98",
   "metadata": {},
   "source": [
    "## BA5A\n",
    "### Find mininum number of coins needed to make change "
   ]
  },
  {
   "cell_type": "code",
   "execution_count": 3,
   "id": "3027a036",
   "metadata": {},
   "outputs": [
    {
     "data": {
      "text/plain": [
       "815"
      ]
     },
     "execution_count": 3,
     "metadata": {},
     "output_type": "execute_result"
    }
   ],
   "source": [
    "# Solved\n",
    "def minCoins_for_change(money, coins):\n",
    "    coin_count = [0]*(money+1)\n",
    "    for m in range(1, money+1):\n",
    "        coin_count[m] = min(coin_count[m-coin]+1 for coin in coins if m>=coin )\n",
    "    return coin_count[money]\n",
    "#     for m in range(1, money+1):\n",
    "#         mn = 10000000000\n",
    "#         for coin in coins:\n",
    "#             if(m >= coin):\n",
    "#                 mn = min(mn, coin_count[m-coin] + 1)\n",
    "#         coin_count[m] = mn\n",
    "#     return coin_count[money]\n",
    "\n",
    "\n",
    "money = 40\n",
    "coins = [1,5,10,20,25,50]\n",
    "money = 17903\n",
    "coins = [1,3,5,9,10,11,20,22]\n",
    "\n",
    "minCoins_for_change(money, coins)"
   ]
  },
  {
   "cell_type": "code",
   "execution_count": null,
   "id": "ff37ef20",
   "metadata": {},
   "outputs": [],
   "source": [
    "def min_coin()"
   ]
  },
  {
   "cell_type": "markdown",
   "id": "e5027f10",
   "metadata": {},
   "source": [
    "## BA5B\n",
    "### Longest path in the manhatton tourist problem "
   ]
  },
  {
   "cell_type": "code",
   "execution_count": 49,
   "id": "93b5af4a",
   "metadata": {},
   "outputs": [
    {
     "name": "stdout",
     "output_type": "stream",
     "text": [
      "[[1 0 2 4 3]\n",
      " [4 6 5 2 1]\n",
      " [4 4 5 2 1]\n",
      " [5 6 8 5 3]] \n",
      " [[3 2 4 0]\n",
      " [3 2 4 2]\n",
      " [0 7 3 3]\n",
      " [3 3 0 2]\n",
      " [1 3 2 2]]\n",
      "[[ 0  3  5  9  9]\n",
      " [ 1  0  0  0  0]\n",
      " [ 5  0  0  0  0]\n",
      " [ 9  0  0  0  0]\n",
      " [14  0  0  0  0]]\n",
      "[[ 0  3  5  9  9]\n",
      " [ 1  4  7 13 15]\n",
      " [ 5 10 17 20 23]\n",
      " [ 9 14 22 22 24]\n",
      " [14 20 30 32 34]]\n"
     ]
    },
    {
     "data": {
      "text/plain": [
       "34"
      ]
     },
     "execution_count": 49,
     "metadata": {},
     "output_type": "execute_result"
    }
   ],
   "source": [
    "import numpy as np\n",
    "\n",
    "def longest_path_manhatton(down, right, n, m):\n",
    "    scores = np.zeros([n+1,m+1], dtype = int)\n",
    "#     print(scores)\n",
    "    scores[1:, 0] = np.cumsum(down[:, 0])\n",
    "    scores[0, 1:] = np.cumsum(right[0, :])\n",
    "    print(scores)\n",
    "    for i in range(1, n+1):\n",
    "        for j in range(1, m+1):\n",
    "            scores[i,j] = max(scores[i-1,j] + down[i-1,j] , scores[i,j-1] + right[i,j-1])\n",
    "    \n",
    "    print(scores)\n",
    "    \n",
    "    return scores[n,m]\n",
    "down_str = '''1 0 2 4 3\n",
    "4 6 5 2 1\n",
    "4 4 5 2 1\n",
    "5 6 8 5 3'''\n",
    "\n",
    "right_str = '''3 2 4 0\n",
    "3 2 4 2\n",
    "0 7 3 3\n",
    "3 3 0 2\n",
    "1 3 2 2'''\n",
    "n,m = 4,4\n",
    "# n,m = 14,14\n",
    "# down_str = '''3 1 3 2 1 1 0 2 1 2 2 4 3 3 3\n",
    "# 2 2 3 3 2 4 4 0 1 1 2 3 2 0 2\n",
    "# 4 0 0 1 2 3 2 2 4 1 1 1 4 2 0\n",
    "# 2 3 3 3 1 3 4 4 3 1 2 3 0 2 4\n",
    "# 4 3 2 2 2 1 4 4 3 1 0 3 0 1 2\n",
    "# 2 1 4 0 4 4 2 2 0 4 0 4 4 3 4\n",
    "# 3 2 2 1 0 4 1 1 4 2 3 3 0 1 0\n",
    "# 0 4 0 1 2 0 4 1 0 2 2 3 4 2 3\n",
    "# 0 1 3 1 2 4 3 1 1 2 4 3 4 0 3\n",
    "# 3 4 3 4 2 2 3 2 4 0 2 2 3 4 2\n",
    "# 3 1 2 0 2 1 0 2 3 2 3 0 1 1 0\n",
    "# 3 3 3 0 3 3 3 2 0 1 3 1 4 2 4\n",
    "# 2 3 3 1 0 4 2 0 4 3 4 3 4 3 4\n",
    "# 4 4 1 0 4 0 2 0 0 4 3 4 3 3 1'''\n",
    "# right_str = '''4 0 4 0 2 4 0 2 2 2 4 0 2 0\n",
    "# 4 4 1 0 4 3 1 1 0 3 4 4 0 0\n",
    "# 3 3 1 4 2 2 0 3 0 0 3 2 0 1\n",
    "# 1 1 2 2 4 1 4 4 3 3 3 1 3 4\n",
    "# 2 2 0 1 2 3 3 3 3 2 4 1 4 3\n",
    "# 1 1 0 0 0 1 4 1 1 2 1 3 0 2\n",
    "# 3 2 4 0 3 4 1 3 2 4 4 3 3 1\n",
    "# 3 0 3 1 2 3 0 1 0 3 0 2 3 3\n",
    "# 1 1 1 2 2 2 1 3 3 1 1 2 1 2\n",
    "# 0 4 1 0 1 0 4 2 4 0 3 4 1 4\n",
    "# 4 3 1 3 3 3 0 4 3 2 0 1 4 2\n",
    "# 2 3 1 1 2 4 3 2 2 2 2 4 1 0\n",
    "# 4 4 1 2 0 0 3 0 1 4 3 0 0 4\n",
    "# 3 0 1 2 4 4 0 3 2 0 0 4 4 0\n",
    "# 3 1 1 2 3 2 3 4 4 0 4 3 4 3\n",
    "# '''\n",
    "down_matrix = np.fromstring(down_str, dtype = int, sep = ' ').reshape(n,m+1)\n",
    "right_matrix = np.fromstring(right_str, dtype=int, sep = ' ').reshape(n+1,m)\n",
    "print(down_matrix, '\\n', right_matrix)\n",
    "longest_path_manhatton(down_matrix, right_matrix, n,m)\n"
   ]
  },
  {
   "cell_type": "code",
   "execution_count": 13,
   "id": "3b3f64bc",
   "metadata": {},
   "outputs": [
    {
     "name": "stdout",
     "output_type": "stream",
     "text": [
      "[[1 0 2 4 3]\n",
      " [4 6 5 2 1]\n",
      " [4 4 5 2 1]\n",
      " [5 6 8 5 3]] [[3 2 4 0]\n",
      " [3 2 4 2]\n",
      " [0 7 3 3]\n",
      " [3 3 0 2]\n",
      " [1 3 2 2]]\n",
      "[[ 0  3  5  9  9]\n",
      " [ 1  0  0  0  0]\n",
      " [ 5  0  0  0  0]\n",
      " [ 9  0  0  0  0]\n",
      " [14  0  0  0  0]]\n"
     ]
    },
    {
     "data": {
      "text/plain": [
       "34"
      ]
     },
     "execution_count": 13,
     "metadata": {},
     "output_type": "execute_result"
    }
   ],
   "source": [
    "import numpy as np\n",
    "\n",
    "def longest_path(n,m,down,right): \n",
    "    path = np.zeros([n+1,m+1], dtype = int)\n",
    "    \n",
    "    path[1:,0] = np.cumsum(down[:, 0])\n",
    "    path[0,1:] = np.cumsum(right[0,:])\n",
    "    print(path)\n",
    "    for i in range(1,n+1):\n",
    "        for j in range(1,m+1):\n",
    "            path[i][j] = max(path[i][j-1]+right[i][j-1], path[i-1][j]+down[i-1][j])\n",
    "    \n",
    "    return path[n,m]\n",
    "n,m = 4,4\n",
    "down_str = '''1 0 2 4 3\n",
    "4 6 5 2 1\n",
    "4 4 5 2 1\n",
    "5 6 8 5 3'''\n",
    "right_str = '''3 2 4 0\n",
    "3 2 4 2\n",
    "0 7 3 3\n",
    "3 3 0 2\n",
    "1 3 2 2'''\n",
    "\n",
    "down = np.fromstring(down_str, int, sep = ' ').reshape(n,m+1)\n",
    "right = np.fromstring(right_str, int, sep = ' ').reshape(n+1,m)\n",
    "print(down, right)\n",
    "longest_path(n,m,down, right)"
   ]
  },
  {
   "cell_type": "markdown",
   "id": "9ec81bb1",
   "metadata": {},
   "source": [
    "## BA5C\n",
    "\n",
    "### LCS of 2 strings "
   ]
  },
  {
   "cell_type": "code",
   "execution_count": 52,
   "id": "83340a83",
   "metadata": {},
   "outputs": [
    {
     "name": "stdout",
     "output_type": "stream",
     "text": [
      "[[0 0 0 0 0 0 0 0 0 0]\n",
      " [0 0 0 0 0 0 0 0 0 0]\n",
      " [0 0 0 0 0 0 0 0 0 0]\n",
      " [0 0 0 0 0 0 0 0 0 0]\n",
      " [0 0 0 0 0 0 0 0 0 0]\n",
      " [0 0 0 0 0 0 0 0 0 0]\n",
      " [0 0 0 0 0 0 0 0 0 0]\n",
      " [0 0 0 0 0 0 0 0 0 0]\n",
      " [0 0 0 0 0 0 0 0 0 0]]\n"
     ]
    }
   ],
   "source": [
    "import numpy as np\n",
    "\n",
    "def lcs(u, v):\n",
    "    n, m = len(u), len(v)\n",
    "    scores = np.zeros([n+1, m+1], dtype = int)\n",
    "#     scores = [[0]*(m+1) for _ in range(n+1)]\n",
    "#     print(scores)\n",
    "    pointers = np.zeros([n+1, m+1], dtype = int)\n",
    "    \n",
    "    for i in range(1,n+1):\n",
    "        for j in range(1,m+1):\n",
    "            scores[i][j] = max((scores[i-1][j-1] + (1 if u[i-1] == v[i-1] else 0), (i-1,j-1)), (scores[i][j-1], (i-1,j)))\n",
    "            pointers[i][j] = (scores[i-1][j], (i,j-1)), (scores[i-1][j], (i-1,j))\n",
    "    \n",
    "    def backtrack_iterative(i,j):\n",
    "        output = ''\n",
    "        while i>0 and j>0:\n",
    "            if i-pointers[i][j][0] === j-pointers[i][j][1]\n",
    "                output = u[i-1] + output \n",
    "                i,j = \n",
    " \n",
    "u = 'AACCTTGG'\n",
    "v = 'ACACTGTGA'\n",
    "lcs(u,v)"
   ]
  }
 ],
 "metadata": {
  "kernelspec": {
   "display_name": "Python 3 (ipykernel)",
   "language": "python",
   "name": "python3"
  },
  "language_info": {
   "codemirror_mode": {
    "name": "ipython",
    "version": 3
   },
   "file_extension": ".py",
   "mimetype": "text/x-python",
   "name": "python",
   "nbconvert_exporter": "python",
   "pygments_lexer": "ipython3",
   "version": "3.10.0"
  }
 },
 "nbformat": 4,
 "nbformat_minor": 5
}
